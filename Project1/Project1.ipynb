{
 "cells": [
  {
   "cell_type": "code",
   "execution_count": 1,
   "metadata": {},
   "outputs": [],
   "source": [
    "import numpy as np\n",
    "import matplotlib.pyplot as plt\n",
    "from pint import UnitRegistry\n",
    "\n",
    "import scipy as sp\n",
    "from scipy.optimize import fsolve\n",
    "\n",
    "from fluid import Fluid\n",
    "\n",
    "import json\n",
    "\n",
    "with open('turbine_conditions.json') as f:\n",
    "    conditions = json.load(f)\n",
    "\n"
   ]
  },
  {
   "cell_type": "code",
   "execution_count": 2,
   "metadata": {},
   "outputs": [],
   "source": [
    "co2 = Fluid(fluid='co2')\n",
    "m_out = 0.26 # kg/s\n",
    "t_out = 150 + 273.15\n",
    "delta_p = 2.1 * 1e6 # Pa"
   ]
  },
  {
   "cell_type": "code",
   "execution_count": 3,
   "metadata": {},
   "outputs": [],
   "source": [
    "def solve_mass_flows(h1,h2,h_tot,m_tot):\n",
    "    # TODO: fix where we strip\n",
    "    # check that h_tot is between h1 and h2\n",
    "    if not (h1 < h_tot < h2 or h2 < h_tot < h1):\n",
    "        #print('h_tot is not between h1 and h2')\n",
    "        return None\n",
    "    \n",
    "    # solve the linear system\n",
    "    A = np.array([[1, 1], [h1 - h_tot, h2 - h_tot]])\n",
    "    b = np.array([m_tot, 0])\n",
    "    m1, m2 = np.linalg.solve(A, b)\n",
    "    if m1 < 0 or m2 < 0:\n",
    "        #print('mass flows are negative')\n",
    "        return None\n",
    "    \n",
    "    return m1, m2"
   ]
  },
  {
   "cell_type": "code",
   "execution_count": 4,
   "metadata": {},
   "outputs": [],
   "source": [
    "invalid_solution = []\n",
    "\n",
    "\n",
    "for i, condition in enumerate(conditions):\n",
    "    \n",
    "    for flow_1 in range(1,7):\n",
    "        \n",
    "        enthalpy1 = co2.enthalpy(P = condition[f'P{flow_1}'], T = condition[f'T{flow_1}'])\n",
    "        \n",
    "        for flow_2 in range(flow_1 + 1,7):\n",
    "            \n",
    "            enthalpy2 = co2.enthalpy(P = condition[f'P{flow_2}'], T = condition[f'T{flow_2}'])\n",
    "            \n",
    "            for exhaust in range(1,7):\n",
    "                # test if solution is valid\n",
    "                if (flow_1, flow_2, exhaust) in invalid_solution:\n",
    "                    continue\n",
    "                \n",
    "                \n",
    "                if exhaust == flow_1 or exhaust == flow_2:\n",
    "                    invalid_solution.append([flow_1, flow_2, exhaust])\n",
    "                    continue\n",
    "                p_tot = condition[f'P{exhaust}'] + delta_p\n",
    "                \n",
    "                \n",
    "                # check to make sure the output pressure is lower than both the inputs\n",
    "                if p_tot > condition[f'P{flow_1}'] or p_tot > condition[f'P{flow_2}']:\n",
    "                    invalid_solution.append([flow_1, flow_2, exhaust])\n",
    "                    continue\n",
    "                \n",
    "                \n",
    "                h_tot = co2.enthalpy(P = p_tot, T = t_out)\n",
    "                \n",
    "                #print(f\"m_out={m_out}, h_tot={h_tot}, e1={enthalpy1}, e2={enthalpy2}\")\n",
    "                \n",
    "                # confirm units and make dimensionless\n",
    "                m_tot = m_out\n",
    "                h_tot = h_tot\n",
    "                h1 = enthalpy1\n",
    "                h2 = enthalpy2\n",
    "                \n",
    "                \n",
    "                # check that the mass fractions are positive\n",
    "                ms = solve_mass_flows(h1,h2,h_tot,m_tot)\n",
    "                if ms is None:\n",
    "                    invalid_solution.append([flow_1, flow_2, exhaust])\n",
    "                    continue\n",
    "                m1, m2 = ms\n",
    "                #print(f\"{i} - {flow_1}, {flow_2}, {exhaust}:  {m1}, {m2}\")\n",
    "    \n",
    "    \n",
    "    \n",
    "    "
   ]
  },
  {
   "cell_type": "code",
   "execution_count": 5,
   "metadata": {},
   "outputs": [
    {
     "name": "stdout",
     "output_type": "stream",
     "text": [
      "Valid Combinations Include: \n",
      "[[2, 4, 1], [2, 4, 5], [2, 4, 6]]\n"
     ]
    }
   ],
   "source": [
    "valid_combinations = []\n",
    "\n",
    "for condition in conditions:\n",
    "    \n",
    "    for flow_1 in range(1, 7):\n",
    "        for flow_2 in range(flow_1 + 1, 7):\n",
    "            for exhaust in range(1, 7):\n",
    "                if [flow_1, flow_2, exhaust] in invalid_solution or [flow_1, flow_2, exhaust] in valid_combinations:\n",
    "                    continue\n",
    "                \n",
    "                valid_combinations.append([flow_1, flow_2, exhaust])\n",
    "    \n",
    "print(\"Valid Combinations Include: \")\n",
    "print(valid_combinations)\n"
   ]
  },
  {
   "cell_type": "code",
   "execution_count": 6,
   "metadata": {},
   "outputs": [],
   "source": [
    "def Cv(p_in, s_in, p_out_ideal,\n",
    "       mdot, # mass flow rate\n",
    "       Cd=0.61 # assuming a sharp edged orifice\n",
    "       ):\n",
    "    s_out = s_in\n",
    "    # try real gas first\n",
    "    def v_out(p_out):\n",
    "        h_in = co2.enthalpy(P = p_in, S = s_in)\n",
    "        h_out = co2.enthalpy(P = p_out, S = s_out)\n",
    "        v_in = 0 # assuming input velocity is negligible\n",
    "        return np.sqrt(2 * (h_in - h_out))\n",
    "    \n",
    "    c = lambda p_out: co2.sound_speed(P = p_out, S = s_out)\n",
    "    \n",
    "    if v_out(p_out_ideal) > c(p_out_ideal):\n",
    "        p_out_real = fsolve(lambda p_out: v_out(p_out)-c(p_out),x0=p_out_ideal)\n",
    "    else: # otherwise solve for choked flow\n",
    "        p_out_real = p_out_ideal\n",
    "    \n",
    "    # find the area of the orifice\n",
    "    A2 = mdot / co2.density(P = p_out_real, S = s_out) / v_out(p_out_real)\n",
    "\n",
    "    valve_Cv = Cd * 58888.5 * A2\n",
    "    return valve_Cv, A2"
   ]
  },
  {
   "cell_type": "code",
   "execution_count": 1,
   "metadata": {},
   "outputs": [
    {
     "ename": "NameError",
     "evalue": "name 'conditions' is not defined",
     "output_type": "error",
     "traceback": [
      "\u001b[0;31m---------------------------------------------------------------------------\u001b[0m",
      "\u001b[0;31mNameError\u001b[0m                                 Traceback (most recent call last)",
      "Cell \u001b[0;32mIn[1], line 7\u001b[0m\n\u001b[1;32m      3\u001b[0m min_Cv2, max_Cv2 \u001b[38;5;241m=\u001b[39m \u001b[38;5;28;01mNone\u001b[39;00m, \u001b[38;5;28;01mNone\u001b[39;00m\n\u001b[1;32m      4\u001b[0m min_Cv4, max_Cv4 \u001b[38;5;241m=\u001b[39m \u001b[38;5;28;01mNone\u001b[39;00m, \u001b[38;5;28;01mNone\u001b[39;00m\n\u001b[0;32m----> 7\u001b[0m \u001b[38;5;28;01mfor\u001b[39;00m condition \u001b[38;5;129;01min\u001b[39;00m \u001b[43mconditions\u001b[49m:\n\u001b[1;32m      8\u001b[0m     enthalpy2 \u001b[38;5;241m=\u001b[39m co2\u001b[38;5;241m.\u001b[39menthalpy(P \u001b[38;5;241m=\u001b[39m condition[\u001b[38;5;124m'\u001b[39m\u001b[38;5;124mP2\u001b[39m\u001b[38;5;124m'\u001b[39m], T \u001b[38;5;241m=\u001b[39m condition[\u001b[38;5;124m'\u001b[39m\u001b[38;5;124mT2\u001b[39m\u001b[38;5;124m'\u001b[39m])\n\u001b[1;32m      9\u001b[0m     enthalpy4 \u001b[38;5;241m=\u001b[39m co2\u001b[38;5;241m.\u001b[39menthalpy(P \u001b[38;5;241m=\u001b[39m condition[\u001b[38;5;124m'\u001b[39m\u001b[38;5;124mP4\u001b[39m\u001b[38;5;124m'\u001b[39m], T \u001b[38;5;241m=\u001b[39m condition[\u001b[38;5;124m'\u001b[39m\u001b[38;5;124mT4\u001b[39m\u001b[38;5;124m'\u001b[39m])\n",
      "\u001b[0;31mNameError\u001b[0m: name 'conditions' is not defined"
     ]
    }
   ],
   "source": [
    "output = 5 # choosing 5 because it's already at the right temperature\n",
    "\n",
    "min_Cv2, max_Cv2 = None, None\n",
    "min_Cv4, max_Cv4 = None, None\n",
    "\n",
    "\n",
    "for condition in conditions:\n",
    "    enthalpy2 = co2.enthalpy(P = condition['P2'], T = condition['T2'])\n",
    "    enthalpy4 = co2.enthalpy(P = condition['P4'], T = condition['T4'])\n",
    "    p_out = condition[f'P{output}'] + delta_p\n",
    "    enthalpy_tot = co2.enthalpy(P = p_out, T = condition[f'T{output}'])\n",
    "\n",
    "    m2, m4 = solve_mass_flows(h1=enthalpy2,\n",
    "                              h2=enthalpy4,\n",
    "                              h_tot=enthalpy_tot,\n",
    "                              m_tot=m_out)\n",
    "    \n",
    "    \n",
    "    \n",
    "    ###\n",
    "    # pull out state variables\n",
    "    p2 = condition['P2']\n",
    "    p4 = condition['P4']\n",
    "    s2 = co2.entropy(P = condition['P2'], T = condition['T2'])\n",
    "    s4 = co2.entropy(P = condition['P4'], T = condition['T4'])\n",
    "\n",
    "    Cv2 = Cv(p_in=p2, s_in=s2, p_out_ideal=p_out, mdot=m2)\n",
    "    Cv4 = Cv(p_in=p4, s_in=s4, p_out_ideal=p_out, mdot=m4)\n",
    "\n",
    "    if min_Cv2 is None or Cv2 < min_Cv2:\n",
    "        min_Cv2 = Cv2\n",
    "    if max_Cv2 is None or Cv2 > max_Cv2:\n",
    "        max_Cv2 = Cv2\n",
    "\n",
    "    if min_Cv4 is None or Cv4 < min_Cv4:\n",
    "        min_Cv4 = Cv4\n",
    "    if max_Cv4 is None or Cv4 > max_Cv4:\n",
    "        max_Cv4 = Cv4\n",
    "        \n",
    "print(f\"Min and Max Cv for valve 2: {min_Cv2}, {max_Cv2}\")\n",
    "print(f\"Min and Max Cv for valve 4: {min_Cv4}, {max_Cv4}\")"
   ]
  },
  {
   "cell_type": "code",
   "execution_count": null,
   "metadata": {},
   "outputs": [],
   "source": []
  }
 ],
 "metadata": {
  "kernelspec": {
   "display_name": ".venv",
   "language": "python",
   "name": "python3"
  },
  "language_info": {
   "codemirror_mode": {
    "name": "ipython",
    "version": 3
   },
   "file_extension": ".py",
   "mimetype": "text/x-python",
   "name": "python",
   "nbconvert_exporter": "python",
   "pygments_lexer": "ipython3",
   "version": "3.11.6"
  },
  "orig_nbformat": 4
 },
 "nbformat": 4,
 "nbformat_minor": 2
}
