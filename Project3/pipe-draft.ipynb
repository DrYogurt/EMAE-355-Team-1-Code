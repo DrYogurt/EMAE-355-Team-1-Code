{
 "cells": [
  {
   "cell_type": "code",
   "execution_count": 1,
   "metadata": {},
   "outputs": [],
   "source": [
    "# none of these values are real, they are just filler values\n",
    "k_concrete = 1\n",
    "t_concrete = 1\n",
    "k_casing = 0.5\n",
    "t_casing = 1\n",
    "k_tube = .7\n",
    "t_tube = 1\n",
    "\n",
    "def conduction_resistance(k, t, a):\n",
    "    return t/(k*a)"
   ]
  },
  {
   "cell_type": "markdown",
   "metadata": {},
   "source": [
    "Because of conservation of energy, the energy balance for a control volume can be written as:\n",
    "$$\n",
    "Q_{in}  = \\dot m \\big[ (h_2 - h_1) + \\frac{1}{2}(v_2^2 - v_1^2) + g(z_2-z_1) + g h_l \\big] \n",
    "$$"
   ]
  },
  {
   "cell_type": "code",
   "execution_count": 2,
   "metadata": {},
   "outputs": [],
   "source": [
    "class State:\n",
    "    def __init__(self, h, v, z):\n",
    "        self.h = h\n",
    "        self.v = v\n",
    "        self.z = z"
   ]
  },
  {
   "cell_type": "code",
   "execution_count": 3,
   "metadata": {},
   "outputs": [],
   "source": [
    "def heat_transfer(state2,state1,mdot, head_loss):\n",
    "    qin = mdot * ((state2.h - state1.h) + 0.5 * (state2.v**2 - state1.v**2) + 9.81 * (state2.z - state1.z) + g * head_loss)\n",
    "    return qin"
   ]
  }
 ],
 "metadata": {
  "kernelspec": {
   "display_name": ".venv",
   "language": "python",
   "name": "python3"
  },
  "language_info": {
   "codemirror_mode": {
    "name": "ipython",
    "version": 3
   },
   "file_extension": ".py",
   "mimetype": "text/x-python",
   "name": "python",
   "nbconvert_exporter": "python",
   "pygments_lexer": "ipython3",
   "version": "3.11.8"
  }
 },
 "nbformat": 4,
 "nbformat_minor": 2
}
