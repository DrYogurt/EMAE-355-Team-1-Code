{
 "cells": [
  {
   "cell_type": "code",
   "execution_count": 1,
   "metadata": {},
   "outputs": [],
   "source": [
    "from fluid import Fluid\n",
    "import numpy as np\n",
    "\n",
    "from scipy.optimize import fsolve\n",
    "\n",
    "co2 = Fluid('co2')"
   ]
  },
  {
   "cell_type": "code",
   "execution_count": 2,
   "metadata": {},
   "outputs": [],
   "source": [
    "# none of these values are real, they are just filler values\n",
    "\n",
    "#https://en.wikipedia.org/wiki/List_of_thermal_conductivities\n",
    "\n",
    "r_casing = (5.563 / 2.) * .0254 # m\n",
    "k_casing = 32.2 # [W/mK] \n",
    "\n",
    "r_concrete = (5 / 2.)  * .0254 \n",
    "k_concrete = 0.8 \n",
    "\n",
    "r_tube = (2.375 / 2.) * .0254\n",
    "k_tube = 32.2 \n",
    "\n",
    "r_internal = (2 / 2.) * .0254 \n",
    "\n",
    "pipe_e = 0.0015 # TODO find something real\n",
    "\n",
    "def pipe_ctr(r_o, r_i, k, L): # https://www.engineersedge.com/heat_transfer/heat_loss_insulated_pipe_13865.htm\n",
    "    return np.log(r_o/r_i)/(2*np.pi*k*L)\n",
    "\n",
    "def total_pipe_ctr(r_casing, r_concrete, r_tube, k_casing, k_concrete, k_tube, L):\n",
    "    tr_casing = pipe_ctr(r_casing, r_concrete, k_casing,L)\n",
    "    tr_concrete = pipe_ctr(r_concrete, r_tube, k_concrete, L)\n",
    "    tr_tube = pipe_ctr(r_tube, r_internal, k_tube, L)\n",
    "\n",
    "    tr_tot = tr_casing + tr_concrete + tr_tube\n",
    "\n",
    "    return tr_tot\n",
    "\n",
    "tr_pipe = lambda length: total_pipe_ctr(r_casing, r_concrete, r_tube, k_casing, k_concrete, k_tube, length)\n",
    "\n",
    "def conduction_resistance(k, t, a):\n",
    "    return t/(k*a)\n",
    "\n",
    "def darcy_friction_factor(Re, e_d):\n",
    "    if Re < 2000:\n",
    "        return 64/Re\n",
    "    elif Re < 4000:\n",
    "        return 0.316/Re**0.25\n",
    "    else:\n",
    "        return .0055*[1+((2*10**4)*(e_d) + 10**6/Re)**(1/3)] # 0.25/np.log10(e_d/3.7 + 5.74/Re**0.9)**2 # \n",
    "\n",
    "def head_loss(v, mu, l, d):\n",
    "    Re = v*d/mu\n",
    "    e_d = pipe_e / d\n",
    "    f = darcy_friction_factor(Re, e_d)\n",
    "    return f*l*v**2/(2*d*9.81)"
   ]
  },
  {
   "cell_type": "markdown",
   "metadata": {},
   "source": [
    "Because of conservation of energy, the energy balance for a control volume can be written as:\n",
    "$$\n",
    "Q_{in}  = \\dot m \\big[ (h_2 - h_1) + \\frac{1}{2}(v_2^2 - v_1^2) + g(z_2-z_1) + g h_l \\big] \n",
    "$$"
   ]
  },
  {
   "cell_type": "code",
   "execution_count": 3,
   "metadata": {},
   "outputs": [],
   "source": [
    "class State:\n",
    "    def __init__(self,h,z,rho):\n",
    "        self.h = h\n",
    "        self.z = z\n",
    "        self.rho = rho"
   ]
  },
  {
   "cell_type": "code",
   "execution_count": 4,
   "metadata": {},
   "outputs": [],
   "source": [
    "def heat_transfer(state2, state1, mdot, head_loss):\n",
    "    qin = mdot * ((state2.h - state1.h) + 0.5 * (state2.v**2 - state1.v**2) + 9.81 * (state2.z - state1.z) + g * head_loss)\n",
    "    return qin"
   ]
  },
  {
   "cell_type": "code",
   "execution_count": null,
   "metadata": {},
   "outputs": [],
   "source": [
    "def solve_finite_element_method(mdot, state_in, length, T_external, radius, ):\n",
    "\n",
    "    v_in = mdot / (state_in.rho * np.pi * radius**2)\n",
    "    head_loss = head_loss(v_in,co2.viscosity(D=state_in.rho,H=state_in.h) , length,2*radius)\n",
    "    T_in = co2.temperature(D=state_in.rho,H=state_in.h)\n",
    "    q_in = tr_pipe(length) * (T_external - T_in) / mdot\n",
    "    # mechanical energy\n",
    "    me_lhs = state_in.p / state_in.rho + 0.5 * v_in**2 + 9.81 * state_in.z\n",
    "    \n",
    "    # thermal energy\n",
    "    u1 = state_in.h - state_in.p / state_in.rho\n",
    "    \n",
    "    z_out = state_in.z - length\n",
    "    head_loss = 1\n",
    "    def f(rho_out, h_out):\n",
    "        p_out = co2.pressure(D = rho_out, H = h_out)\n",
    "        v_out = state_in.rho * p_out / rho_out\n",
    "        u_out = h_out - p_out / rho_out\n",
    "        me_loss = p_out / rho_out + 0.5 *(v_out)**2 + 9.81 * z_out + 9.81 * head_loss - me_lhs\n",
    "        heat_loss = u1 + q_in + 9.81 * head_loss - u_out\n",
    "        return me_loss**2, heat_loss**2\n",
    "    \n",
    "    # solve for rho_out, h_out\n",
    "    rho_out, h_out = fsolve(f, [state_in.rho, state_in.h])\n",
    "    return State(h_out, z_out, rho_out)\n",
    "    \n",
    "    "
   ]
  }
 ],
 "metadata": {
  "kernelspec": {
   "display_name": ".venv",
   "language": "python",
   "name": "python3"
  },
  "language_info": {
   "codemirror_mode": {
    "name": "ipython",
    "version": 3
   },
   "file_extension": ".py",
   "mimetype": "text/x-python",
   "name": "python",
   "nbconvert_exporter": "python",
   "pygments_lexer": "ipython3",
   "version": "3.11.8"
  }
 },
 "nbformat": 4,
 "nbformat_minor": 2
}
