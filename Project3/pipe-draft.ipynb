{
 "cells": [
  {
   "cell_type": "code",
   "execution_count": 1,
   "metadata": {},
   "outputs": [],
   "source": [
    "from fluid import Fluid\n",
    "import numpy as np\n",
    "import matplotlib.pyplot as plt\n",
    "from tqdm import tqdm\n",
    "\n",
    "from scipy.optimize import fsolve, minimize\n",
    "\n",
    "\n",
    "co2 = Fluid('co2')"
   ]
  },
  {
   "cell_type": "code",
   "execution_count": 2,
   "metadata": {},
   "outputs": [],
   "source": [
    "\n",
    "r_casing = (5.563 / 2.) * .0254 # m, https://en.wikipedia.org/wiki/List_of_thermal_conductivities\n",
    "k_casing = 32.2 # [W/mK] \n",
    "\n",
    "r_concrete = (5 / 2.)  * .0254 \n",
    "k_concrete = 0.8 \n",
    "\n",
    "r_tube = (2.375 / 2.) * .0254\n",
    "k_tube = 32.2 \n",
    "\n",
    "r_internal = (2 / 2.) * .0254 \n",
    "\n",
    "k_fluid = .01224 #W/mK, https://www.engineeringtoolbox.com/carbon-dioxide-thermal-conductivity-temperature-pressure-d_2019.html\n",
    "cp_fluid = .763  # kJ/kgK AT 225,  https://www.engineeringtoolbox.com/carbon-dioxide-d_974.html\n",
    "pipe_e = 0.000015 # meters,  https://neutrium.net/fluid-flow/absolute-roughness-of-pipe-material/\n",
    "\n",
    "def pipe_ctr(r_o, r_i, k, L): # https://www.engineersedge.com/heat_transfer/heat_loss_insulated_pipe_13865.htm\n",
    "    return np.log(r_o/r_i)/(2*np.pi*k*L)\n",
    "\n",
    "def total_pipe_ctr(r_casing, r_concrete, r_tube, k_casing, k_concrete, k_tube, L):\n",
    "    tr_casing = pipe_ctr(r_casing, r_concrete, k_casing,L)\n",
    "    tr_concrete = pipe_ctr(r_concrete, r_tube, k_concrete, L)\n",
    "    tr_tube = pipe_ctr(r_tube, r_internal, k_tube, L)\n",
    "\n",
    "    tr_tot = tr_casing + tr_concrete + tr_tube\n",
    "\n",
    "    return tr_tot\n",
    "\n",
    "tr_pipe = lambda length: total_pipe_ctr(r_casing, r_concrete, r_tube, k_casing, k_concrete, k_tube, length)\n",
    "\n",
    "def darcy_friction_factor(Re, e_d):\n",
    "    if Re < 2000:\n",
    "        return 64/Re\n",
    "    elif Re < 4000:\n",
    "        return 0.316/Re**0.25\n",
    "    else:\n",
    "        return .0055*(1+((2*10**4)*(e_d) + 10**6/Re)**(1/3)) # 0.25/np.log10(e_d/3.7 + 5.74/Re**0.9)**2 # \n",
    "\n",
    "def darcy_law_pressure(p_a, v_dot, L, viscosity, permeability=10, A=2): # returns P_b output pressure\n",
    "    p_b = p_a - (v_dot*viscosity*L)/(permeability*A)\n",
    "\n",
    "    return p_b\n",
    "\n",
    "def aquifer_heat_transfer(T_mi, P, L, m_dot, T_s = 220, Nu=450):\n",
    "    h = (Nu*k_fluid)/L\n",
    "    T_mo = T_s - np.exp((-P*L*h)/(m_dot*cp_fluid))*(T_s-T_mi)\n",
    "\n",
    "    return T_mo\n",
    "\n",
    "def head_loss(v, mu, l, d):\n",
    "    Re = v*d/mu\n",
    "    e_d = pipe_e / d\n",
    "    f = darcy_friction_factor(Re, e_d)\n",
    "    return f*l*v**2/(2*d*9.81)"
   ]
  },
  {
   "cell_type": "markdown",
   "metadata": {},
   "source": [
    "Because of conservation of energy, the energy balance for a control volume can be written as:\n",
    "$$\n",
    "Q_{in}  = \\dot m \\big[ (h_2 - h_1) + \\frac{1}{2}(v_2^2 - v_1^2) + g(z_2-z_1) + g h_l \\big] \n",
    "$$"
   ]
  },
  {
   "cell_type": "code",
   "execution_count": 3,
   "metadata": {},
   "outputs": [],
   "source": [
    "class State:\n",
    "    def __init__(self,h,z,rho):\n",
    "        self.h = h\n",
    "        self.z = z\n",
    "        self.rho = rho"
   ]
  },
  {
   "cell_type": "code",
   "execution_count": 4,
   "metadata": {},
   "outputs": [
    {
     "name": "stdout",
     "output_type": "stream",
     "text": [
      "1178.4626431726008\n"
     ]
    }
   ],
   "source": [
    "triple_temp = co2.triple_temperature()\n",
    "triple_pressure = co2.triple_pressure()\n",
    "\n",
    "co2_triple_density = co2.density(T=triple_temp, P=triple_pressure)\n",
    "print(co2_triple_density)\n",
    "\n",
    "def solve_finite_element_method(mdot, state_in, length, T_external, radius, ):\n",
    "\n",
    "    v_in = mdot / (state_in.rho * np.pi * radius**2)\n",
    "    h_l = 0 #head_loss(v_in,co2.viscosity(D=state_in.rho,H=state_in.h) , length,2*radius)\n",
    "    T_in = co2.temperature(D=state_in.rho,H=state_in.h)\n",
    "    q_in = tr_pipe(length) * (T_in - T_external) / mdot\n",
    "    # mechanical energy\n",
    "    p_in = co2.pressure(D = state_in.rho, H = state_in.h)\n",
    "    me_lhs = p_in / state_in.rho + 0.5 * v_in**2 + 9.81 * state_in.z\n",
    "    \n",
    "    # thermal energy\n",
    "    u1 = state_in.h - p_in / state_in.rho\n",
    "    \n",
    "    #if state_in.rho < co2_triple_density:\n",
    "    #    raise ValueError('State is below the triple point')\n",
    "    \n",
    "    \n",
    "    z_out = state_in.z - length\n",
    "    def f(x):\n",
    "        h_out,rho_out = x\n",
    "        \n",
    "        # find the \n",
    "        try:\n",
    "            p_out = co2.pressure(D = rho_out, H = h_out)\n",
    "        except:\n",
    "            #print(\"pain\")\n",
    "            return np.Inf\n",
    "        v_out = state_in.rho * p_out / rho_out\n",
    "        u_out = h_out - p_out / rho_out\n",
    "        me_loss = p_out / rho_out + 0.5 *(v_out)**2 + 9.81 * z_out - 9.81 * h_l - me_lhs\n",
    "        heat_loss = u1 + q_in + 9.81 * h_l - u_out\n",
    "        return me_loss**2 + heat_loss**2\n",
    "    \n",
    "    # solve for rho_out, h_out\n",
    "    # assume Tout from cp\n",
    "    cp = co2.cpmass(D=state_in.rho,H=state_in.h)\n",
    "    Tout = co2.temperature(D=state_in.rho,H=state_in.h) + q_in / (mdot * cp)\n",
    "    start_h = co2.enthalpy(D=state_in.rho, T=Tout)\n",
    "    start_rho = state_in.rho\n",
    "    h_out, rho_out  = minimize(f, [start_h,start_rho]).x\n",
    "    \n",
    "    return State(h_out, z_out, rho_out)"
   ]
  },
  {
   "cell_type": "code",
   "execution_count": 5,
   "metadata": {},
   "outputs": [
    {
     "name": "stdout",
     "output_type": "stream",
     "text": [
      "492713.198092169 368.69122065097145\n"
     ]
    },
    {
     "name": "stderr",
     "output_type": "stream",
     "text": [
      "Progress:   0%|          | 0/250 [00:00<?, ?it/s]/home/dryogurt/Documents/Habitats/EMAE-355-Team-1-Code/.venv/lib/python3.11/site-packages/scipy/optimize/_numdiff.py:590: RuntimeWarning: invalid value encountered in subtract\n",
      "  df = fun(x) - f0\n",
      "Progress:   0%|          | 1/250 [00:00<00:53,  4.68it/s]/home/dryogurt/Documents/Habitats/EMAE-355-Team-1-Code/.venv/lib/python3.11/site-packages/scipy/optimize/_numdiff.py:590: RuntimeWarning: invalid value encountered in subtract\n",
      "  df = fun(x) - f0\n",
      "/home/dryogurt/Documents/Habitats/EMAE-355-Team-1-Code/.venv/lib/python3.11/site-packages/scipy/optimize/_numdiff.py:590: RuntimeWarning: invalid value encountered in subtract\n",
      "  df = fun(x) - f0\n",
      "Progress: 100%|██████████| 250/250 [00:19<00:00, 12.56it/s]\n"
     ]
    }
   ],
   "source": [
    "pipe_length = 3.2e3\n",
    "num_segments = 250\n",
    "segment_length = pipe_length / num_segments\n",
    "num_segments = int(num_segments)\n",
    "surface_temp = 10 + 273 # C\n",
    "temp_gradient = 62.5 # C/km\n",
    "temp = lambda z: surface_temp - temp_gradient * z / 1e3\n",
    "\n",
    "state_in = State(h=co2.enthalpy(T=406,P=20.2e6), z=0, rho=co2.density(T=406,P=20.2e6))\n",
    "print(state_in.h, state_in.rho)\n",
    "heights = np.linspace(0,-pipe_length,num_segments)\n",
    "enthalpies = np.zeros_like(heights)\n",
    "pressures = np.zeros_like(heights)\n",
    "\n",
    "# plot the temperature profile\n",
    "\n",
    "for i,h in tqdm(enumerate(heights), total=num_segments, desc=\"Progress\"):\n",
    "    state_out = solve_finite_element_method(3.2+10, state_in, segment_length, temp(h), r_internal)\n",
    "    enthalpies[i] = state_out.h\n",
    "    pressures[i] = state_out.rho\n",
    "    #print(state_out.h, state_out.rho)\n",
    "    state_in = state_out\n",
    "\n"
   ]
  },
  {
   "cell_type": "code",
   "execution_count": 6,
   "metadata": {},
   "outputs": [
    {
     "data": {
      "image/png": "[encoded data removed]",
      "text/plain": [
       "<Figure size 640x480 with 1 Axes>"
      ]
     },
     "metadata": {},
     "output_type": "display_data"
    }
   ],
   "source": [
    "#plt.plot([temp(h) for h in heights],heights,label='Temperature')\n",
    "#plt.plot(densities,heights,label='Densities')\n",
    "plt.plot(enthalpies[10:],heights[10:],label='enthalpies')\n",
    "plt.legend()\n",
    "plt.show()"
   ]
  },
  {
   "cell_type": "code",
   "execution_count": null,
   "metadata": {},
   "outputs": [],
   "source": []
  }
 ],
 "metadata": {
  "kernelspec": {
   "display_name": ".venv",
   "language": "python",
   "name": "python3"
  },
  "language_info": {
   "codemirror_mode": {
    "name": "ipython",
    "version": 3
   },
   "file_extension": ".py",
   "mimetype": "text/x-python",
   "name": "python",
   "nbconvert_exporter": "python",
   "pygments_lexer": "ipython3",
   "version": "3.11.8"
  }
 },
 "nbformat": 4,
 "nbformat_minor": 2
}
