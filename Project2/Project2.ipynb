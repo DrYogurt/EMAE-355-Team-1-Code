{
 "cells": [
  {
   "cell_type": "markdown",
   "metadata": {},
   "source": [
    "Our goal is to approach this problem from two sides: first - looking at the maximal flow we can achieve, and then finding the maximal heat transfer for that flow."
   ]
  },
  {
   "cell_type": "code",
   "execution_count": 2,
   "metadata": {},
   "outputs": [],
   "source": [
    "import numpy as np\n",
    "import matplotlib.pyplot as plt\n",
    "from pint import UnitRegistry\n",
    "\n",
    "import scipy as sp\n",
    "from scipy import optimize as op\n",
    "\n",
    "from fluid import Fluid\n",
    "\n",
    "import json"
   ]
  },
  {
   "cell_type": "markdown",
   "metadata": {},
   "source": [
    "I'll start by defining some basic helper functions"
   ]
  },
  {
   "cell_type": "code",
   "execution_count": 12,
   "metadata": {},
   "outputs": [],
   "source": [
    "water = Fluid('water')\n",
    "\n",
    "def Re(D, v, rho, mu):\n",
    "    return rho*v*D/mu\n",
    "\n",
    "def Nu(Re, Pr):\n",
    "    if Re < 2300:\n",
    "        return 3.66\n",
    "    elif Re > 2300 and Re < 10000:\n",
    "        return 4.36\n",
    "    else:\n",
    "        return 0.023*Re**(4/5)*Pr**(0.4)\n",
    "    \n",
    "def Nu_turbulent(Re, Pr):\n",
    "    return 0.023*Re**(4/5)*Pr**(0.4)\n",
    "\n",
    "def h(Nu, k, D):\n",
    "    return Nu*k/D\n",
    "\n",
    "def R_cond(k, A, t):\n",
    "    return k*A/t\n",
    "\n",
    "def R_conv(h, A):\n",
    "    return 1/h*A\n",
    "\n",
    "def u_avg(m_dot, rho, A):\n",
    "    return m_dot/(rho*A)\n",
    "\n",
    "def HydraulicDiameter(A, P):\n",
    "    return 4*A/P\n",
    "\n",
    "def T_o(Ti, m_dot, Cp):\n",
    "    return (m_dot*Cp*Ti)/(m_dot*Cp)\n",
    "\n"
   ]
  },
  {
   "cell_type": "code",
   "execution_count": 13,
   "metadata": {},
   "outputs": [
    {
     "data": {
      "image/png": "[encoded data removed]",
      "text/plain": [
       "<Figure size 640x480 with 1 Axes>"
      ]
     },
     "metadata": {},
     "output_type": "display_data"
    }
   ],
   "source": [
    "ts = np.linspace(274, 373, 50)\n",
    "prs = np.zeros_like(ts)\n",
    "for i,t in enumerate(ts):\n",
    "    Pr = water.prandtl(P=101325, T=t)\n",
    "    prs[i] = Pr\n",
    "plt.plot(ts, prs)\n",
    "plt.show()"
   ]
  },
  {
   "cell_type": "code",
   "execution_count": 35,
   "metadata": {},
   "outputs": [
    {
     "name": "stdout",
     "output_type": "stream",
     "text": [
      "T_h: 285.16 C, T_l: 285.01 C, T_co: 285.00 C\n"
     ]
    },
    {
     "name": "stderr",
     "output_type": "stream",
     "text": [
      "/tmp/ipykernel_1231245/2345803603.py:8: RuntimeWarning: invalid value encountered in log\n",
      "  lmtd = lambda Tai, Tao, Tbi, Tbo: ((Tao-Tbo) - (Tai - Tbi))/(np.log(Tao-Tbo) - np.log(Tai-Tbi))\n"
     ]
    }
   ],
   "source": [
    "# equation 1: energy balance on the top surface\n",
    "def make_optimizer_egns(q_sun, T_inf, T_ci, h_air,\n",
    "                        epsilon, sigma, k_module, k_water,\n",
    "                        thickness, D, v, P=101325):\n",
    "    Cp = lambda t: water.cpmass(P=P, T=t)\n",
    "    module_conductivity = lambda Tl, Th : k_module  * (Th-Tl) / thickness\n",
    "    m_dot_1d = lambda t: water.density(P=P, T=t) * v\n",
    "    lmtd = lambda Tai, Tao, Tbi, Tbo: ((Tao-Tbo) - (Tai - Tbi))/(np.log(Tao-Tbo) - np.log(Tai-Tbi))\n",
    "    he_Re = lambda t: Re(D, v, water.density(P=P, T=t), water.viscosity(P=P, T=t))\n",
    "    he_Pr = lambda t:water.prandtl(P=P, T=t)\n",
    "    he_Nu = lambda t: Nu_turbulent(he_Re(t), he_Pr(t))\n",
    "    def equations(T):\n",
    "        #print(f\"Re: {he_Re(T_ci)}, Pr: {he_Pr(T_ci)}, Nu: {he_Nu(T_ci)}\")\n",
    "        T_h, T_l, T_co = T\n",
    "        #print(T_h, T_l, T_ci, T_co)\n",
    "        return [\n",
    "            q_sun * (epsilon) - h_air*(T_h-T_inf) - epsilon * sigma * T_h**4 - module_conductivity(T_l, T_h), #todo add rho\n",
    "            module_conductivity(T_l, T_h) - he_Nu(T_ci) * (k_water/ D) * lmtd(T_l, T_l, T_ci, T_co) , #todo check heat flux is correct\n",
    "            module_conductivity(T_l, T_h) - m_dot_1d(T_ci) * Cp(T_ci) * (T_co-T_ci),\n",
    "        ]\n",
    "    return equations\n",
    "\n",
    "    \n",
    "    \n",
    "    \n",
    "a = 3.5e-3\n",
    "b = 30e-3\n",
    "\n",
    "param_dict = {\n",
    "    \"q_sun\": 1e3, # W/m^2\n",
    "    \"T_inf\": 300.15,\n",
    "    \"T_ci\":285,#294.261, # https://edis.ifas.ufl.edu/publication/CH182,\n",
    "    \"h_air\": 37.,\n",
    "    \"epsilon\": 1,\n",
    "    \"sigma\": 5.67e-8,\n",
    "    \"k_module\": 1.72,\n",
    "    \"k_water\": 0.6,\n",
    "    \"thickness\": 3.5e-3, # m\n",
    "    \"D\": 4 * (a*b)/(2*(a+b)), # hydraulic diameter of a rectangle\n",
    "    \"v\": 1.219, # https://extension.usu.edu/irrigation/research/accurate-irrigation-water-flow-pipes\n",
    "    \"P\": 413685.0,\n",
    "    }\n",
    "\n",
    "eqns = make_optimizer_egns(**param_dict)\n",
    "T_l_init = 0.5 * (param_dict['T_inf'] + param_dict['T_ci'])\n",
    "# use scipy to solve the system of equations\n",
    "ts = op.least_squares(eqns,\n",
    "                     [param_dict['T_inf'], T_l_init, 275],\n",
    "                     bounds=([0, 0, 275],\n",
    "                             [np.inf, np.inf, 373]))\n",
    "# convert ts.x to a dictionary and put in celsius\n",
    "T_h, T_l, T_co = ts.x #[t-273.15 for t in ts.x]\n",
    "print(f\"T_h: {T_h:.2f} C, T_l: {T_l:.2f} C, T_co: {T_co:.2f} C\")"
   ]
  },
  {
   "cell_type": "code",
   "execution_count": 6,
   "metadata": {},
   "outputs": [
    {
     "data": {
      "text/plain": [
       "0.00626865671641791"
      ]
     },
     "execution_count": 6,
     "metadata": {},
     "output_type": "execute_result"
    }
   ],
   "source": [
    "param_dict['D']"
   ]
  }
 ],
 "metadata": {
  "kernelspec": {
   "display_name": ".venv",
   "language": "python",
   "name": "python3"
  },
  "language_info": {
   "codemirror_mode": {
    "name": "ipython",
    "version": 3
   },
   "file_extension": ".py",
   "mimetype": "text/x-python",
   "name": "python",
   "nbconvert_exporter": "python",
   "pygments_lexer": "ipython3",
   "version": "3.11.6"
  }
 },
 "nbformat": 4,
 "nbformat_minor": 2
}
